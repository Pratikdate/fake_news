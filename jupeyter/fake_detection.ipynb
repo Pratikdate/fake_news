{
 "cells": [
  {
   "cell_type": "code",
   "execution_count": 222,
   "metadata": {},
   "outputs": [],
   "source": [
    "import pandas as pd\n",
    "import numpy as np\n",
    "import tensorflow as tf\n",
    "from sklearn import pipeline\n",
    "from sklearn.feature_extraction.text import CountVectorizer\n",
    "from sklearn.preprocessing import OneHotEncoder\n",
    "from keras import preprocessing, layers\n",
    "from sklearn.impute import SimpleImputer\n",
    "from sklearn.pipeline import Pipeline\n",
    "from sklearn.compose import ColumnTransformer\n",
    "from sklearn.preprocessing import OneHotEncoder, StandardScaler\n",
    "\n",
    "\n",
    "import matplotlib.pyplot as plt \n",
    "import seaborn as sns\n",
    "\n"
   ]
  },
  {
   "cell_type": "code",
   "execution_count": 179,
   "metadata": {},
   "outputs": [],
   "source": [
    "def data_pre(fake,true):\n",
    "    fake.insert(4,\"fake(0)/true(1)\",np.zeros(len(fake.date),dtype=int))\n",
    "    true.insert(4,\"fake(0)/true(1)\",np.ones(len(true.date),dtype=int))\n",
    "    \n",
    "    months_f=[fake.date[i].split()[0] for i in range(len(fake.date))]\n",
    "    fake.update(pd.DataFrame({\"date\":months_f}))\n",
    "    months_t=[true.date[i].split()[0] for i in range(len(true.date))]\n",
    "    true.update(pd.DataFrame({\"date\":months_t}))\n",
    "    return pd.concat([fake,true],axis=0)\n",
    "    "
   ]
  },
  {
   "cell_type": "code",
   "execution_count": 180,
   "metadata": {},
   "outputs": [
    {
     "data": {
      "text/html": [
       "<div>\n",
       "<style scoped>\n",
       "    .dataframe tbody tr th:only-of-type {\n",
       "        vertical-align: middle;\n",
       "    }\n",
       "\n",
       "    .dataframe tbody tr th {\n",
       "        vertical-align: top;\n",
       "    }\n",
       "\n",
       "    .dataframe thead th {\n",
       "        text-align: right;\n",
       "    }\n",
       "</style>\n",
       "<table border=\"1\" class=\"dataframe\">\n",
       "  <thead>\n",
       "    <tr style=\"text-align: right;\">\n",
       "      <th></th>\n",
       "      <th>title</th>\n",
       "      <th>text</th>\n",
       "      <th>subject</th>\n",
       "      <th>date</th>\n",
       "      <th>fake(0)/true(1)</th>\n",
       "    </tr>\n",
       "  </thead>\n",
       "  <tbody>\n",
       "    <tr>\n",
       "      <th>0</th>\n",
       "      <td>As U.S. budget fight looms, Republicans flip t...</td>\n",
       "      <td>WASHINGTON (Reuters) - The head of a conservat...</td>\n",
       "      <td>politicsNews</td>\n",
       "      <td>December</td>\n",
       "      <td>0</td>\n",
       "    </tr>\n",
       "    <tr>\n",
       "      <th>1</th>\n",
       "      <td>U.S. military to accept transgender recruits o...</td>\n",
       "      <td>WASHINGTON (Reuters) - Transgender people will...</td>\n",
       "      <td>politicsNews</td>\n",
       "      <td>December</td>\n",
       "      <td>0</td>\n",
       "    </tr>\n",
       "    <tr>\n",
       "      <th>2</th>\n",
       "      <td>Senior U.S. Republican senator: 'Let Mr. Muell...</td>\n",
       "      <td>WASHINGTON (Reuters) - The special counsel inv...</td>\n",
       "      <td>politicsNews</td>\n",
       "      <td>December</td>\n",
       "      <td>0</td>\n",
       "    </tr>\n",
       "    <tr>\n",
       "      <th>3</th>\n",
       "      <td>FBI Russia probe helped by Australian diplomat...</td>\n",
       "      <td>WASHINGTON (Reuters) - Trump campaign adviser ...</td>\n",
       "      <td>politicsNews</td>\n",
       "      <td>December</td>\n",
       "      <td>0</td>\n",
       "    </tr>\n",
       "    <tr>\n",
       "      <th>4</th>\n",
       "      <td>Trump wants Postal Service to charge 'much mor...</td>\n",
       "      <td>SEATTLE/WASHINGTON (Reuters) - President Donal...</td>\n",
       "      <td>politicsNews</td>\n",
       "      <td>December</td>\n",
       "      <td>0</td>\n",
       "    </tr>\n",
       "    <tr>\n",
       "      <th>...</th>\n",
       "      <td>...</td>\n",
       "      <td>...</td>\n",
       "      <td>...</td>\n",
       "      <td>...</td>\n",
       "      <td>...</td>\n",
       "    </tr>\n",
       "    <tr>\n",
       "      <th>23476</th>\n",
       "      <td>McPain: John McCain Furious That Iran Treated ...</td>\n",
       "      <td>21st Century Wire says As 21WIRE reported earl...</td>\n",
       "      <td>Middle-east</td>\n",
       "      <td>January</td>\n",
       "      <td>1</td>\n",
       "    </tr>\n",
       "    <tr>\n",
       "      <th>23477</th>\n",
       "      <td>JUSTICE? Yahoo Settles E-mail Privacy Class-ac...</td>\n",
       "      <td>21st Century Wire says It s a familiar theme. ...</td>\n",
       "      <td>Middle-east</td>\n",
       "      <td>January</td>\n",
       "      <td>1</td>\n",
       "    </tr>\n",
       "    <tr>\n",
       "      <th>23478</th>\n",
       "      <td>Sunnistan: US and Allied ‘Safe Zone’ Plan to T...</td>\n",
       "      <td>Patrick Henningsen  21st Century WireRemember ...</td>\n",
       "      <td>Middle-east</td>\n",
       "      <td>January</td>\n",
       "      <td>1</td>\n",
       "    </tr>\n",
       "    <tr>\n",
       "      <th>23479</th>\n",
       "      <td>How to Blow $700 Million: Al Jazeera America F...</td>\n",
       "      <td>21st Century Wire says Al Jazeera America will...</td>\n",
       "      <td>Middle-east</td>\n",
       "      <td>January</td>\n",
       "      <td>1</td>\n",
       "    </tr>\n",
       "    <tr>\n",
       "      <th>23480</th>\n",
       "      <td>10 U.S. Navy Sailors Held by Iranian Military ...</td>\n",
       "      <td>21st Century Wire says As 21WIRE predicted in ...</td>\n",
       "      <td>Middle-east</td>\n",
       "      <td>January</td>\n",
       "      <td>1</td>\n",
       "    </tr>\n",
       "  </tbody>\n",
       "</table>\n",
       "<p>44898 rows × 5 columns</p>\n",
       "</div>"
      ],
      "text/plain": [
       "                                                   title  \\\n",
       "0      As U.S. budget fight looms, Republicans flip t...   \n",
       "1      U.S. military to accept transgender recruits o...   \n",
       "2      Senior U.S. Republican senator: 'Let Mr. Muell...   \n",
       "3      FBI Russia probe helped by Australian diplomat...   \n",
       "4      Trump wants Postal Service to charge 'much mor...   \n",
       "...                                                  ...   \n",
       "23476  McPain: John McCain Furious That Iran Treated ...   \n",
       "23477  JUSTICE? Yahoo Settles E-mail Privacy Class-ac...   \n",
       "23478  Sunnistan: US and Allied ‘Safe Zone’ Plan to T...   \n",
       "23479  How to Blow $700 Million: Al Jazeera America F...   \n",
       "23480  10 U.S. Navy Sailors Held by Iranian Military ...   \n",
       "\n",
       "                                                    text       subject  \\\n",
       "0      WASHINGTON (Reuters) - The head of a conservat...  politicsNews   \n",
       "1      WASHINGTON (Reuters) - Transgender people will...  politicsNews   \n",
       "2      WASHINGTON (Reuters) - The special counsel inv...  politicsNews   \n",
       "3      WASHINGTON (Reuters) - Trump campaign adviser ...  politicsNews   \n",
       "4      SEATTLE/WASHINGTON (Reuters) - President Donal...  politicsNews   \n",
       "...                                                  ...           ...   \n",
       "23476  21st Century Wire says As 21WIRE reported earl...   Middle-east   \n",
       "23477  21st Century Wire says It s a familiar theme. ...   Middle-east   \n",
       "23478  Patrick Henningsen  21st Century WireRemember ...   Middle-east   \n",
       "23479  21st Century Wire says Al Jazeera America will...   Middle-east   \n",
       "23480  21st Century Wire says As 21WIRE predicted in ...   Middle-east   \n",
       "\n",
       "           date  fake(0)/true(1)  \n",
       "0      December                0  \n",
       "1      December                0  \n",
       "2      December                0  \n",
       "3      December                0  \n",
       "4      December                0  \n",
       "...         ...              ...  \n",
       "23476   January                1  \n",
       "23477   January                1  \n",
       "23478   January                1  \n",
       "23479   January                1  \n",
       "23480   January                1  \n",
       "\n",
       "[44898 rows x 5 columns]"
      ]
     },
     "execution_count": 180,
     "metadata": {},
     "output_type": "execute_result"
    }
   ],
   "source": [
    "fake = pd.read_csv(\"C:/GitHub/fake_news/News_dataset/Fake.csv\")\n",
    "true = pd.read_csv(\"C:/GitHub/fake_news/News_dataset/True.csv\")\n",
    "\n",
    "data=data_pre(true,fake)\n",
    "data\n"
   ]
  },
  {
   "cell_type": "code",
   "execution_count": 184,
   "metadata": {},
   "outputs": [
    {
     "data": {
      "text/plain": [
       "0        December\n",
       "1        December\n",
       "2        December\n",
       "3        December\n",
       "4        December\n",
       "           ...   \n",
       "23476     January\n",
       "23477     January\n",
       "23478     January\n",
       "23479     January\n",
       "23480     January\n",
       "Name: date, Length: 44898, dtype: object"
      ]
     },
     "execution_count": 184,
     "metadata": {},
     "output_type": "execute_result"
    }
   ],
   "source": [
    "data['date']"
   ]
  },
  {
   "cell_type": "code",
   "execution_count": 182,
   "metadata": {},
   "outputs": [
    {
     "name": "stdout",
     "output_type": "stream",
     "text": [
      "Unique date in table : 35\n"
     ]
    }
   ],
   "source": [
    "print(\"Unique date in table :\", len(data[\"date\"].unique()))\n"
   ]
  },
  {
   "cell_type": "code",
   "execution_count": 185,
   "metadata": {},
   "outputs": [
    {
     "name": "stdout",
     "output_type": "stream",
     "text": [
      "Unique date in table : 35\n"
     ]
    }
   ],
   "source": [
    "print(\"Unique date in table :\", len(fake[\"date\"].unique()))\n"
   ]
  },
  {
   "cell_type": "code",
   "execution_count": 73,
   "metadata": {},
   "outputs": [
    {
     "data": {
      "text/plain": [
       "'youngers these days are becoming so moist pic.twitter.com/ctKxUQXIAz  6Paths OfA WolfsPain (@GiovanniiDC) September 21, 2016THUGS BEATING UP A RANDOM WHITE GUY:Why are they attacking this random guy?#CharlotteProtest #Charlotte pic.twitter.com/Wt6q7o5iwc  Andrew Quackson (@AndrewQuackson) September 22, 2016 RIOTERS TRYING TO LIGHT A GUY ON FIRE: Peaceful Protesters  just trying to keep a man warm by attempting to light him on fire#CharlotteProtest #Charlotte pic.twitter.com/hWeVAadoi4  Andrew Quackson (@AndrewQuackson) September 22, 2016 RIOTERS BREAKING INTO A STORE:Protestors rush into souvenir store in #Charlotte #CharlotteRiots pic.twitter.com/r0KmeyTkTs  myrcat (@Myrna_Perez) September 22, 2016 RIOTERS PULLING PEOPLE FROM CARS:Agitators are now attempting to surround and pull people out of vehicles. #CharlotteRiot/#CharlotteProtest pic.twitter.com/V5ZokkRxlX  Audit The Media ?? (@AuditTheMedia) September 22, 2016 STEALING JUST BECAUSE Protesters getting even with an ATM for being responsible for the death of a black man.#Charlotte #CharlotteProtest pic.twitter.com/2wDpOgys8E  Andrew Quackson (@AndrewQuackson) September 22, 2016'"
      ]
     },
     "execution_count": 73,
     "metadata": {},
     "output_type": "execute_result"
    }
   ],
   "source": [
    "fake.text.max()\n"
   ]
  },
  {
   "cell_type": "code",
   "execution_count": 101,
   "metadata": {},
   "outputs": [
    {
     "data": {
      "text/plain": [
       "'neVIENNA (Reuters) - The U.N. nuclear watchdog s chief urged major powers on Tuesday to clarify a part of their nuclear deal with Iran dealing with technology that could be used to develop an atom bomb, an area Russia said the agency should leave alone. The 2015 pact between six major powers and Iran restricts its nuclear activities in exchange for the lifting of sanctions against the Islamic Republic. Compliance with those curbs is being verified by the International Atomic Energy Agency. IAEA Director General Yukiya Amano has defended the deal as a major step forward while declining to comment specifically on criticism of it by the administration of U.S. President Donald Trump, who has called the accord - reached by predecessor Barack Obama -  an embarrassment to the United States . But while Nikki Haley, U.S. Ambassador to the United Nations, has infuriated Tehran by saying the IAEA should widen its inspections to include military sites, diplomats say Russia has been trying to restrict the agency s role by arguing it has no authority to police a broadly worded section of the deal. That section bans  activities which could contribute to the development of a nuclear explosive device . It lists examples such as using computer models that simulate a nuclear bomb, or designing multi-point, explosive detonation systems. Unlike many other parts of the deal, the provision, known as Section T, makes no mention of the IAEA or specifics of how it will be verified. Russia says that means the IAEA has no authority over it. Western powers and the agency disagree.  Our tools are limited,  Amano told Reuters when asked if his agency had the means to verify Section T.  In other sections, for example, Iran has committed to submit declarations, place their activities under safeguards or ensure access by us. But in Section T I don t see any (such commitment).  Amano said he hoped the parties to the agreement would discuss the issue in the Joint Commission, a forum created by the deal, adding that even a clearer definition of terms such as the technology referred to would be an improvement.  More clarification would be helpful ... Russia has a different view. They believe that it is not the mandate of the IAEA. Others have different views and discussions are ongoing.  Trump has hinted that he may not recertify the agreement when it comes up for review by a mid-October deadline, in which case the U.S. Congress would have 60 days to decide whether to reimpose sanctions waived under the accord, known officially as the Joint Comprehensive Plan of Action (JCPOA). Amano repeated, however, that Iran was implementing its nuclear commitments under the deal. He said complementary access - often consisting of short-notice inspections carried out under the IAEA Additional Protocol, which Iran is implementing under the accord - was going smoothly.     Complementary access in Iran is being undertaken without problem and the number of accesses is quite high,  he said. When asked if a successful Iran deal could help encourage a political solution in nuclear-armed North Korea, to which the IAEA has no access, Amano said the two situations were quite different. But he added:  I also do not say that there s no comparison, because in the JCPOA s case, diplomacy worked.  '"
      ]
     },
     "execution_count": 101,
     "metadata": {},
     "output_type": "execute_result"
    }
   ],
   "source": [
    "true.text.max()\n"
   ]
  },
  {
   "cell_type": "code",
   "execution_count": 226,
   "metadata": {},
   "outputs": [],
   "source": [
    "from sklearn.model_selection import train_test_split\n",
    "\n",
    "x=data.drop(\"fake(0)/true(1)\",axis=1)\n",
    "y=data['fake(0)/true(1)']\n",
    "\n",
    "X_train,X_test,y_train,y_test=train_test_split(x,y,random_state=62,test_size=0.2)\n"
   ]
  },
  {
   "cell_type": "code",
   "execution_count": 189,
   "metadata": {},
   "outputs": [
    {
     "data": {
      "text/plain": [
       "163"
      ]
     },
     "execution_count": 189,
     "metadata": {},
     "output_type": "execute_result"
    }
   ],
   "source": [
    "fake_token = preprocessing.text.text_to_word_sequence(fake.text.max())\n",
    "len(fake_token)\n"
   ]
  },
  {
   "cell_type": "code",
   "execution_count": 110,
   "metadata": {},
   "outputs": [
    {
     "data": {
      "text/plain": [
       "9"
      ]
     },
     "execution_count": 110,
     "metadata": {},
     "output_type": "execute_result"
    }
   ],
   "source": [
    "true_token = preprocessing.text.text_to_word_sequence(true.title.max())\n",
    "len(true_token)\n"
   ]
  },
  {
   "cell_type": "code",
   "execution_count": 191,
   "metadata": {},
   "outputs": [],
   "source": [
    "Xtrain_text_transform = layers.TextVectorization(max_tokens=500,\n",
    "                                               output_mode='int',\n",
    "                                               output_sequence_length=500)\n",
    "\n",
    "Xtrain_text_transform.adapt(X_train[\"text\"])\n",
    "\n",
    "Xtrain_vector_text = Xtrain_text_transform(X_train[\"text\"]).numpy()\n"
   ]
  },
  {
   "cell_type": "code",
   "execution_count": 192,
   "metadata": {},
   "outputs": [],
   "source": [
    "Xtest_text_transform = layers.TextVectorization(max_tokens=600,\n",
    "                                               output_mode='int',\n",
    "                                               output_sequence_length=600)\n",
    "Xtest_text_transform.adapt(X_test[\"text\"])\n",
    "Xtest_vector_text = Xtest_text_transform(X_test[\"text\"]).numpy()\n"
   ]
  },
  {
   "cell_type": "code",
   "execution_count": 193,
   "metadata": {},
   "outputs": [],
   "source": [
    "Xtrain_title_transform = layers.TextVectorization(max_tokens=600,\n",
    "                                                output_mode='int',\n",
    "                                                output_sequence_length=600)\n",
    "Xtrain_title_transform.adapt(X_train[\"title\"])\n",
    "Xtrain_vector_title = Xtrain_title_transform(X_train[\"title\"]).numpy()\n"
   ]
  },
  {
   "cell_type": "code",
   "execution_count": 194,
   "metadata": {},
   "outputs": [],
   "source": [
    "Xtest_title_transform = layers.TextVectorization(max_tokens=600,\n",
    "                                                output_mode='int',\n",
    "                                                output_sequence_length=600)\n",
    "Xtest_title_transform.adapt(X_test[\"title\"])\n",
    "Xtest_vector_title = Xtest_title_transform(X_test[\"title\"]).numpy()\n"
   ]
  },
  {
   "cell_type": "code",
   "execution_count": 203,
   "metadata": {},
   "outputs": [],
   "source": [
    "\n",
    "\n",
    "cat_transform = pipeline.Pipeline(\n",
    "    steps=[\n",
    "        (\"imputer\", SimpleImputer(strategy=\"most_frequent\")),\n",
    "        (\"one_hot_encoder\", OneHotEncoder()),\n",
    "        \n",
    "    ]\n",
    ")\n"
   ]
  },
  {
   "cell_type": "code",
   "execution_count": 204,
   "metadata": {},
   "outputs": [],
   "source": [
    "columns_text = [\"text\", 'title']\n",
    "cat_column = [\"date\", 'subject']\n"
   ]
  },
  {
   "cell_type": "code",
   "execution_count": 205,
   "metadata": {},
   "outputs": [],
   "source": [
    "preprocessor = ColumnTransformer(\n",
    "    [\n",
    "        \n",
    "        (\"cat_transform\", cat_transform, cat_column)\n",
    "    ]\n",
    ")\n"
   ]
  },
  {
   "cell_type": "code",
   "execution_count": 227,
   "metadata": {},
   "outputs": [
    {
     "ename": "KeyError",
     "evalue": "('date', 'subject')",
     "output_type": "error",
     "traceback": [
      "\u001b[1;31m---------------------------------------------------------------------------\u001b[0m",
      "\u001b[1;31mKeyError\u001b[0m                                  Traceback (most recent call last)",
      "File \u001b[1;32mc:\\Users\\USER\\anaconda3\\envs\\tensorflow_env\\lib\\site-packages\\pandas\\core\\indexes\\base.py:3802\u001b[0m, in \u001b[0;36mIndex.get_loc\u001b[1;34m(self, key, method, tolerance)\u001b[0m\n\u001b[0;32m   3801\u001b[0m \u001b[39mtry\u001b[39;00m:\n\u001b[1;32m-> 3802\u001b[0m     \u001b[39mreturn\u001b[39;00m \u001b[39mself\u001b[39;49m\u001b[39m.\u001b[39;49m_engine\u001b[39m.\u001b[39;49mget_loc(casted_key)\n\u001b[0;32m   3803\u001b[0m \u001b[39mexcept\u001b[39;00m \u001b[39mKeyError\u001b[39;00m \u001b[39mas\u001b[39;00m err:\n",
      "File \u001b[1;32mc:\\Users\\USER\\anaconda3\\envs\\tensorflow_env\\lib\\site-packages\\pandas\\_libs\\index.pyx:138\u001b[0m, in \u001b[0;36mpandas._libs.index.IndexEngine.get_loc\u001b[1;34m()\u001b[0m\n",
      "File \u001b[1;32mc:\\Users\\USER\\anaconda3\\envs\\tensorflow_env\\lib\\site-packages\\pandas\\_libs\\index.pyx:165\u001b[0m, in \u001b[0;36mpandas._libs.index.IndexEngine.get_loc\u001b[1;34m()\u001b[0m\n",
      "File \u001b[1;32mpandas\\_libs\\hashtable_class_helper.pxi:5745\u001b[0m, in \u001b[0;36mpandas._libs.hashtable.PyObjectHashTable.get_item\u001b[1;34m()\u001b[0m\n",
      "File \u001b[1;32mpandas\\_libs\\hashtable_class_helper.pxi:5753\u001b[0m, in \u001b[0;36mpandas._libs.hashtable.PyObjectHashTable.get_item\u001b[1;34m()\u001b[0m\n",
      "\u001b[1;31mKeyError\u001b[0m: ('date', 'subject')",
      "\nThe above exception was the direct cause of the following exception:\n",
      "\u001b[1;31mKeyError\u001b[0m                                  Traceback (most recent call last)",
      "\u001b[1;32mc:\\GitHub\\fake_news\\jupeyter\\fake_detection.ipynb Cell 19\u001b[0m line \u001b[0;36m1\n\u001b[1;32m----> <a href='vscode-notebook-cell:/c%3A/GitHub/fake_news/jupeyter/fake_detection.ipynb#X12sZmlsZQ%3D%3D?line=0'>1</a>\u001b[0m preprocessor\u001b[39m.\u001b[39mfit(X_test[\u001b[39m\"\u001b[39;49m\u001b[39mdate\u001b[39;49m\u001b[39m\"\u001b[39;49m, \u001b[39m'\u001b[39;49m\u001b[39msubject\u001b[39;49m\u001b[39m'\u001b[39;49m])\n\u001b[0;32m      <a href='vscode-notebook-cell:/c%3A/GitHub/fake_news/jupeyter/fake_detection.ipynb#X12sZmlsZQ%3D%3D?line=1'>2</a>\u001b[0m preprocessor\u001b[39m.\u001b[39mfit(X_train[\u001b[39m\"\u001b[39m\u001b[39mdate\u001b[39m\u001b[39m\"\u001b[39m, \u001b[39m'\u001b[39m\u001b[39msubject\u001b[39m\u001b[39m'\u001b[39m])\n",
      "File \u001b[1;32mc:\\Users\\USER\\anaconda3\\envs\\tensorflow_env\\lib\\site-packages\\pandas\\core\\frame.py:3807\u001b[0m, in \u001b[0;36mDataFrame.__getitem__\u001b[1;34m(self, key)\u001b[0m\n\u001b[0;32m   3805\u001b[0m \u001b[39mif\u001b[39;00m \u001b[39mself\u001b[39m\u001b[39m.\u001b[39mcolumns\u001b[39m.\u001b[39mnlevels \u001b[39m>\u001b[39m \u001b[39m1\u001b[39m:\n\u001b[0;32m   3806\u001b[0m     \u001b[39mreturn\u001b[39;00m \u001b[39mself\u001b[39m\u001b[39m.\u001b[39m_getitem_multilevel(key)\n\u001b[1;32m-> 3807\u001b[0m indexer \u001b[39m=\u001b[39m \u001b[39mself\u001b[39;49m\u001b[39m.\u001b[39;49mcolumns\u001b[39m.\u001b[39;49mget_loc(key)\n\u001b[0;32m   3808\u001b[0m \u001b[39mif\u001b[39;00m is_integer(indexer):\n\u001b[0;32m   3809\u001b[0m     indexer \u001b[39m=\u001b[39m [indexer]\n",
      "File \u001b[1;32mc:\\Users\\USER\\anaconda3\\envs\\tensorflow_env\\lib\\site-packages\\pandas\\core\\indexes\\base.py:3804\u001b[0m, in \u001b[0;36mIndex.get_loc\u001b[1;34m(self, key, method, tolerance)\u001b[0m\n\u001b[0;32m   3802\u001b[0m     \u001b[39mreturn\u001b[39;00m \u001b[39mself\u001b[39m\u001b[39m.\u001b[39m_engine\u001b[39m.\u001b[39mget_loc(casted_key)\n\u001b[0;32m   3803\u001b[0m \u001b[39mexcept\u001b[39;00m \u001b[39mKeyError\u001b[39;00m \u001b[39mas\u001b[39;00m err:\n\u001b[1;32m-> 3804\u001b[0m     \u001b[39mraise\u001b[39;00m \u001b[39mKeyError\u001b[39;00m(key) \u001b[39mfrom\u001b[39;00m \u001b[39merr\u001b[39;00m\n\u001b[0;32m   3805\u001b[0m \u001b[39mexcept\u001b[39;00m \u001b[39mTypeError\u001b[39;00m:\n\u001b[0;32m   3806\u001b[0m     \u001b[39m# If we have a listlike key, _check_indexing_error will raise\u001b[39;00m\n\u001b[0;32m   3807\u001b[0m     \u001b[39m#  InvalidIndexError. Otherwise we fall through and re-raise\u001b[39;00m\n\u001b[0;32m   3808\u001b[0m     \u001b[39m#  the TypeError.\u001b[39;00m\n\u001b[0;32m   3809\u001b[0m     \u001b[39mself\u001b[39m\u001b[39m.\u001b[39m_check_indexing_error(key)\n",
      "\u001b[1;31mKeyError\u001b[0m: ('date', 'subject')"
     ]
    }
   ],
   "source": [
    "preprocessor.fit(X_test)\n",
    "preprocessor.fit(X_train)"
   ]
  },
  {
   "cell_type": "code",
   "execution_count": 209,
   "metadata": {},
   "outputs": [],
   "source": [
    "x_train=preprocessor.fit_transform(X_train)\n",
    "x_test=preprocessor.fit_transform(X_test)\n"
   ]
  },
  {
   "cell_type": "code",
   "execution_count": 241,
   "metadata": {},
   "outputs": [],
   "source": [
    "from sklearn import naive_bayes\n",
    "from sklearn.ensemble import RandomForestClassifier\n",
    "from sklearn import metrics"
   ]
  },
  {
   "cell_type": "code",
   "execution_count": 250,
   "metadata": {},
   "outputs": [
    {
     "data": {
      "text/html": [
       "<div>\n",
       "<style scoped>\n",
       "    .dataframe tbody tr th:only-of-type {\n",
       "        vertical-align: middle;\n",
       "    }\n",
       "\n",
       "    .dataframe tbody tr th {\n",
       "        vertical-align: top;\n",
       "    }\n",
       "\n",
       "    .dataframe thead th {\n",
       "        text-align: right;\n",
       "    }\n",
       "</style>\n",
       "<table border=\"1\" class=\"dataframe\">\n",
       "  <thead>\n",
       "    <tr style=\"text-align: right;\">\n",
       "      <th></th>\n",
       "      <th>title</th>\n",
       "      <th>text</th>\n",
       "      <th>subject</th>\n",
       "      <th>date</th>\n",
       "    </tr>\n",
       "  </thead>\n",
       "  <tbody>\n",
       "    <tr>\n",
       "      <th>11261</th>\n",
       "      <td>BEAUTIFUL MELANIA WEARS LBD TO HOST Reception ...</td>\n",
       "      <td>Trump commented about it during the reception:...</td>\n",
       "      <td>politics</td>\n",
       "      <td>Mar</td>\n",
       "    </tr>\n",
       "    <tr>\n",
       "      <th>21026</th>\n",
       "      <td>Two Russian soldiers killed by shelling in Syr...</td>\n",
       "      <td>MOSCOW (Reuters) - Two Russian servicemen have...</td>\n",
       "      <td>worldnews</td>\n",
       "      <td>September</td>\n",
       "    </tr>\n",
       "    <tr>\n",
       "      <th>6672</th>\n",
       "      <td>Michael Jordan Condemns North Carolina Anti-L...</td>\n",
       "      <td>North Carolina Republicans just got slam-dunke...</td>\n",
       "      <td>News</td>\n",
       "      <td>April</td>\n",
       "    </tr>\n",
       "    <tr>\n",
       "      <th>14513</th>\n",
       "      <td>BLUNT MEME EXPOSES Difference Between Forced G...</td>\n",
       "      <td>2 Corinthians 9:7 Each one must give as he ha...</td>\n",
       "      <td>politics</td>\n",
       "      <td>Feb</td>\n",
       "    </tr>\n",
       "    <tr>\n",
       "      <th>11652</th>\n",
       "      <td>China jails 44 Taiwanese for fraud in case den...</td>\n",
       "      <td>BEIJING/TAIPEI (Reuters) - A Beijing court on ...</td>\n",
       "      <td>worldnews</td>\n",
       "      <td>December</td>\n",
       "    </tr>\n",
       "    <tr>\n",
       "      <th>...</th>\n",
       "      <td>...</td>\n",
       "      <td>...</td>\n",
       "      <td>...</td>\n",
       "      <td>...</td>\n",
       "    </tr>\n",
       "    <tr>\n",
       "      <th>2163</th>\n",
       "      <td>Key in NAFTA talks is 'not tearing apart what ...</td>\n",
       "      <td>WASHINGTON (Reuters) - Mexico’s Economy Minist...</td>\n",
       "      <td>politicsNews</td>\n",
       "      <td>August</td>\n",
       "    </tr>\n",
       "    <tr>\n",
       "      <th>19424</th>\n",
       "      <td>LIBERAL LOSER Screams “This is my America!” Af...</td>\n",
       "      <td></td>\n",
       "      <td>left-news</td>\n",
       "      <td>Dec</td>\n",
       "    </tr>\n",
       "    <tr>\n",
       "      <th>9809</th>\n",
       "      <td>Driven up the wall by Trump, Mexico looks to r...</td>\n",
       "      <td>MEXICO CITY (Reuters) - At first, Mexico’s gov...</td>\n",
       "      <td>politicsNews</td>\n",
       "      <td>April</td>\n",
       "    </tr>\n",
       "    <tr>\n",
       "      <th>15384</th>\n",
       "      <td>Judge orders Rosneft CEO Sechin to appear as w...</td>\n",
       "      <td>MOSCOW (Reuters) - A Russian judge on Wednesda...</td>\n",
       "      <td>worldnews</td>\n",
       "      <td>November</td>\n",
       "    </tr>\n",
       "    <tr>\n",
       "      <th>9746</th>\n",
       "      <td>White House says Biden's visit is a good indic...</td>\n",
       "      <td>WASHINGTON (Reuters) - The White House on Thur...</td>\n",
       "      <td>politicsNews</td>\n",
       "      <td>April</td>\n",
       "    </tr>\n",
       "  </tbody>\n",
       "</table>\n",
       "<p>35918 rows × 4 columns</p>\n",
       "</div>"
      ],
      "text/plain": [
       "                                                   title  \\\n",
       "11261  BEAUTIFUL MELANIA WEARS LBD TO HOST Reception ...   \n",
       "21026  Two Russian soldiers killed by shelling in Syr...   \n",
       "6672    Michael Jordan Condemns North Carolina Anti-L...   \n",
       "14513  BLUNT MEME EXPOSES Difference Between Forced G...   \n",
       "11652  China jails 44 Taiwanese for fraud in case den...   \n",
       "...                                                  ...   \n",
       "2163   Key in NAFTA talks is 'not tearing apart what ...   \n",
       "19424  LIBERAL LOSER Screams “This is my America!” Af...   \n",
       "9809   Driven up the wall by Trump, Mexico looks to r...   \n",
       "15384  Judge orders Rosneft CEO Sechin to appear as w...   \n",
       "9746   White House says Biden's visit is a good indic...   \n",
       "\n",
       "                                                    text       subject  \\\n",
       "11261  Trump commented about it during the reception:...      politics   \n",
       "21026  MOSCOW (Reuters) - Two Russian servicemen have...     worldnews   \n",
       "6672   North Carolina Republicans just got slam-dunke...          News   \n",
       "14513   2 Corinthians 9:7 Each one must give as he ha...      politics   \n",
       "11652  BEIJING/TAIPEI (Reuters) - A Beijing court on ...     worldnews   \n",
       "...                                                  ...           ...   \n",
       "2163   WASHINGTON (Reuters) - Mexico’s Economy Minist...  politicsNews   \n",
       "19424                                                        left-news   \n",
       "9809   MEXICO CITY (Reuters) - At first, Mexico’s gov...  politicsNews   \n",
       "15384  MOSCOW (Reuters) - A Russian judge on Wednesda...     worldnews   \n",
       "9746   WASHINGTON (Reuters) - The White House on Thur...  politicsNews   \n",
       "\n",
       "            date  \n",
       "11261        Mar  \n",
       "21026  September  \n",
       "6672       April  \n",
       "14513        Feb  \n",
       "11652   December  \n",
       "...          ...  \n",
       "2163      August  \n",
       "19424        Dec  \n",
       "9809       April  \n",
       "15384   November  \n",
       "9746       April  \n",
       "\n",
       "[35918 rows x 4 columns]"
      ]
     },
     "execution_count": 250,
     "metadata": {},
     "output_type": "execute_result"
    }
   ],
   "source": [
    "X_train"
   ]
  },
  {
   "cell_type": "code",
   "execution_count": 232,
   "metadata": {},
   "outputs": [
    {
     "data": {
      "text/plain": [
       "11261    1\n",
       "21026    0\n",
       "6672     1\n",
       "14513    1\n",
       "11652    0\n",
       "        ..\n",
       "2163     0\n",
       "19424    1\n",
       "9809     0\n",
       "15384    0\n",
       "9746     0\n",
       "Name: fake(0)/true(1), Length: 35918, dtype: int32"
      ]
     },
     "execution_count": 232,
     "metadata": {},
     "output_type": "execute_result"
    }
   ],
   "source": [
    "y_train"
   ]
  },
  {
   "cell_type": "code",
   "execution_count": 252,
   "metadata": {},
   "outputs": [
    {
     "data": {
      "text/html": [
       "<style>#sk-container-id-7 {color: black;background-color: white;}#sk-container-id-7 pre{padding: 0;}#sk-container-id-7 div.sk-toggleable {background-color: white;}#sk-container-id-7 label.sk-toggleable__label {cursor: pointer;display: block;width: 100%;margin-bottom: 0;padding: 0.3em;box-sizing: border-box;text-align: center;}#sk-container-id-7 label.sk-toggleable__label-arrow:before {content: \"▸\";float: left;margin-right: 0.25em;color: #696969;}#sk-container-id-7 label.sk-toggleable__label-arrow:hover:before {color: black;}#sk-container-id-7 div.sk-estimator:hover label.sk-toggleable__label-arrow:before {color: black;}#sk-container-id-7 div.sk-toggleable__content {max-height: 0;max-width: 0;overflow: hidden;text-align: left;background-color: #f0f8ff;}#sk-container-id-7 div.sk-toggleable__content pre {margin: 0.2em;color: black;border-radius: 0.25em;background-color: #f0f8ff;}#sk-container-id-7 input.sk-toggleable__control:checked~div.sk-toggleable__content {max-height: 200px;max-width: 100%;overflow: auto;}#sk-container-id-7 input.sk-toggleable__control:checked~label.sk-toggleable__label-arrow:before {content: \"▾\";}#sk-container-id-7 div.sk-estimator input.sk-toggleable__control:checked~label.sk-toggleable__label {background-color: #d4ebff;}#sk-container-id-7 div.sk-label input.sk-toggleable__control:checked~label.sk-toggleable__label {background-color: #d4ebff;}#sk-container-id-7 input.sk-hidden--visually {border: 0;clip: rect(1px 1px 1px 1px);clip: rect(1px, 1px, 1px, 1px);height: 1px;margin: -1px;overflow: hidden;padding: 0;position: absolute;width: 1px;}#sk-container-id-7 div.sk-estimator {font-family: monospace;background-color: #f0f8ff;border: 1px dotted black;border-radius: 0.25em;box-sizing: border-box;margin-bottom: 0.5em;}#sk-container-id-7 div.sk-estimator:hover {background-color: #d4ebff;}#sk-container-id-7 div.sk-parallel-item::after {content: \"\";width: 100%;border-bottom: 1px solid gray;flex-grow: 1;}#sk-container-id-7 div.sk-label:hover label.sk-toggleable__label {background-color: #d4ebff;}#sk-container-id-7 div.sk-serial::before {content: \"\";position: absolute;border-left: 1px solid gray;box-sizing: border-box;top: 0;bottom: 0;left: 50%;z-index: 0;}#sk-container-id-7 div.sk-serial {display: flex;flex-direction: column;align-items: center;background-color: white;padding-right: 0.2em;padding-left: 0.2em;position: relative;}#sk-container-id-7 div.sk-item {position: relative;z-index: 1;}#sk-container-id-7 div.sk-parallel {display: flex;align-items: stretch;justify-content: center;background-color: white;position: relative;}#sk-container-id-7 div.sk-item::before, #sk-container-id-7 div.sk-parallel-item::before {content: \"\";position: absolute;border-left: 1px solid gray;box-sizing: border-box;top: 0;bottom: 0;left: 50%;z-index: -1;}#sk-container-id-7 div.sk-parallel-item {display: flex;flex-direction: column;z-index: 1;position: relative;background-color: white;}#sk-container-id-7 div.sk-parallel-item:first-child::after {align-self: flex-end;width: 50%;}#sk-container-id-7 div.sk-parallel-item:last-child::after {align-self: flex-start;width: 50%;}#sk-container-id-7 div.sk-parallel-item:only-child::after {width: 0;}#sk-container-id-7 div.sk-dashed-wrapped {border: 1px dashed gray;margin: 0 0.4em 0.5em 0.4em;box-sizing: border-box;padding-bottom: 0.4em;background-color: white;}#sk-container-id-7 div.sk-label label {font-family: monospace;font-weight: bold;display: inline-block;line-height: 1.2em;}#sk-container-id-7 div.sk-label-container {text-align: center;}#sk-container-id-7 div.sk-container {/* jupyter's `normalize.less` sets `[hidden] { display: none; }` but bootstrap.min.css set `[hidden] { display: none !important; }` so we also need the `!important` here to be able to override the default hidden behavior on the sphinx rendered scikit-learn.org. See: https://github.com/scikit-learn/scikit-learn/issues/21755 */display: inline-block !important;position: relative;}#sk-container-id-7 div.sk-text-repr-fallback {display: none;}</style><div id=\"sk-container-id-7\" class=\"sk-top-container\"><div class=\"sk-text-repr-fallback\"><pre>Pipeline(steps=[(&#x27;countvectorizer&#x27;, CountVectorizer()),\n",
       "                (&#x27;multinomialnb&#x27;, MultinomialNB(fit_prior=False))])</pre><b>In a Jupyter environment, please rerun this cell to show the HTML representation or trust the notebook. <br />On GitHub, the HTML representation is unable to render, please try loading this page with nbviewer.org.</b></div><div class=\"sk-container\" hidden><div class=\"sk-item sk-dashed-wrapped\"><div class=\"sk-label-container\"><div class=\"sk-label sk-toggleable\"><input class=\"sk-toggleable__control sk-hidden--visually\" id=\"sk-estimator-id-27\" type=\"checkbox\" ><label for=\"sk-estimator-id-27\" class=\"sk-toggleable__label sk-toggleable__label-arrow\">Pipeline</label><div class=\"sk-toggleable__content\"><pre>Pipeline(steps=[(&#x27;countvectorizer&#x27;, CountVectorizer()),\n",
       "                (&#x27;multinomialnb&#x27;, MultinomialNB(fit_prior=False))])</pre></div></div></div><div class=\"sk-serial\"><div class=\"sk-item\"><div class=\"sk-estimator sk-toggleable\"><input class=\"sk-toggleable__control sk-hidden--visually\" id=\"sk-estimator-id-28\" type=\"checkbox\" ><label for=\"sk-estimator-id-28\" class=\"sk-toggleable__label sk-toggleable__label-arrow\">CountVectorizer</label><div class=\"sk-toggleable__content\"><pre>CountVectorizer()</pre></div></div></div><div class=\"sk-item\"><div class=\"sk-estimator sk-toggleable\"><input class=\"sk-toggleable__control sk-hidden--visually\" id=\"sk-estimator-id-29\" type=\"checkbox\" ><label for=\"sk-estimator-id-29\" class=\"sk-toggleable__label sk-toggleable__label-arrow\">MultinomialNB</label><div class=\"sk-toggleable__content\"><pre>MultinomialNB(fit_prior=False)</pre></div></div></div></div></div></div></div>"
      ],
      "text/plain": [
       "Pipeline(steps=[('countvectorizer', CountVectorizer()),\n",
       "                ('multinomialnb', MultinomialNB(fit_prior=False))])"
      ]
     },
     "execution_count": 252,
     "metadata": {},
     "output_type": "execute_result"
    }
   ],
   "source": [
    "model_mul=pipeline.make_pipeline(  CountVectorizer(), naive_bayes.MultinomialNB(alpha=1.0,fit_prior=False))#metrics.confusion_matrix( df_test.Label,pre ))\n",
    "\n",
    "model_mul.fit(X_train.text, y_train)\n",
    "\n"
   ]
  },
  {
   "cell_type": "code",
   "execution_count": 253,
   "metadata": {},
   "outputs": [],
   "source": [
    "model_gussion=pipeline.make_pipeline(  CountVectorizer(), naive_bayes.GaussianNB() )#metrics.confusion_matrix( df_test.Label,pre ))\n",
    "\n",
    "model_gussion.fit(X_train.text, y_train)\n",
    "\n"
   ]
  },
  {
   "cell_type": "code",
   "execution_count": null,
   "metadata": {},
   "outputs": [
    {
     "data": {
      "text/plain": [
       "0.9344097995545657"
      ]
     },
     "execution_count": 236,
     "metadata": {},
     "output_type": "execute_result"
    }
   ],
   "source": [
    "print(model_mul.score(X_test.text,y_test))\n",
    "model_gussion.score(X_test.text,y_test)"
   ]
  },
  {
   "cell_type": "code",
   "execution_count": 237,
   "metadata": {},
   "outputs": [
    {
     "data": {
      "text/plain": [
       "8980"
      ]
     },
     "execution_count": 237,
     "metadata": {},
     "output_type": "execute_result"
    }
   ],
   "source": [
    "pre=model.predict(X_test.text)\n",
    "len(pre)\n"
   ]
  },
  {
   "cell_type": "code",
   "execution_count": 242,
   "metadata": {},
   "outputs": [
    {
     "data": {
      "text/plain": [
       "<sklearn.metrics._plot.confusion_matrix.ConfusionMatrixDisplay at 0x19ef8abd420>"
      ]
     },
     "execution_count": 242,
     "metadata": {},
     "output_type": "execute_result"
    },
    {
     "data": {
      "image/png": "[encoded data removed]",
      "text/plain": [
       "<Figure size 640x480 with 2 Axes>"
      ]
     },
     "metadata": {},
     "output_type": "display_data"
    }
   ],
   "source": [
    "metrics.ConfusionMatrixDisplay.from_predictions( y_test,pre)"
   ]
  },
  {
   "cell_type": "code",
   "execution_count": 247,
   "metadata": {},
   "outputs": [
    {
     "data": {
      "text/plain": [
       "array([1])"
      ]
     },
     "execution_count": 247,
     "metadata": {},
     "output_type": "execute_result"
    }
   ],
   "source": [
    "text=[[\"BRAKING NEWS Sharukh khan was died so be ready for big terror attacks \"]]\n",
    "#['B.E/B.Tech: Dear DATE PRATIK SANTOSH, You have given your Status as Freeze on 04 Dec 2021 03: 52 PM. CET Cell ','Alert - 795301 is your mobile one time password(OTP) for verifiction - SPPU ','Dear Customer, You have a missed call from +911408520055 The last missed call was at 05:57 PM on 09-Feb-2022 Thankyou, Team Jio. ',' Dear Customer, 368565 is your one time password (OTP). Please enter the OTP to proceed.Thank you,Team Jio ','Dear Customer, 453032 is your one time password (OTP). Please enter the OTP to proceed.Thank you,Team Jio   ','Rofl. Its true to its name ','Paytm secure SMS for Verifying your mobile number:OTM5Zjc0YmVjMDZlODdlOWU4MjcwNWE4Njk2NzlmMzA= ', 'Hi! Please save the Internet settings sent to you & enjoy Vi High Speed GIGAnet. Your code is 1234. Click bit.ly/ViApp21 for Data offers',  'Hi! Please save the Internet settings sent to you & enjoy Vi High Speed GIGAnet. Your code is 1234. Click bit.ly/ViApp21 for Data offers','You have successfully linked your bank account 6XXXXXXXX57 with your BHIM UPI profile using Paytm App:PPBL'  ]\n",
    "#['i haveplan for long trip',' Paytm secure SMS for Verifying your mobile number:OTM5Zjc0YmVjMDZlODdlOWU4MjcwNWE4Njk2NzlmMzA= '    ,' 427395 is the verification code to log in to your Flipkart account. DO NOT share this code with anyone including delivery agents. @www.flipkart.com #427395  ','Instant digital savings bank account for you!Open a Kotak 811 zero balance account in 5 minutes : https://kotk.in/9b6AMIT&C Apply -Kbank ',' B.E/B.Tech: Dear DATE PRATIK SANTOSH, You have given your Status as Freeze on 04 Dec 2021 03: 52 PM. CET Cell'],\n",
    "#[  ' Dear Customer, You have a missed call from +919422490218 The last missed call was at 03:37 PM on 29-Aug-2022 Thankyou, Team Jio. ']\n",
    "  \n",
    "\n",
    "\n",
    "pre=model.predict(text[0])\n",
    "pre"
   ]
  }
 ],
 "metadata": {
  "kernelspec": {
   "display_name": "tensorflow_env",
   "language": "python",
   "name": "python3"
  },
  "language_info": {
   "codemirror_mode": {
    "name": "ipython",
    "version": 3
   },
   "file_extension": ".py",
   "mimetype": "text/x-python",
   "name": "python",
   "nbconvert_exporter": "python",
   "pygments_lexer": "ipython3",
   "version": "3.10.11"
  },
  "orig_nbformat": 4
 },
 "nbformat": 4,
 "nbformat_minor": 2
}
